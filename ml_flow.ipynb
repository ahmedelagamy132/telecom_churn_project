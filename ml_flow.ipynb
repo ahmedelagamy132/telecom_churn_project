import pandas as pd
from sklearn.model_selection import train_test_split
from sklearn.ensemble import RandomForestClassifier
from sklearn.preprocessing import LabelEncoder
from sklearn.metrics import accuracy_score, classification_report
import mlflow
import mlflow.sklearn

df = pd.read_csv("D:\\Query 1.csv")

X = df.drop("Customer_Status", axis=1)  
y = df["Customer_Status"]

categorical_cols = X.select_dtypes(include=['object']).columns
for col in categorical_cols:
    le = LabelEncoder()
    X[col] = le.fit_transform(X[col])

y_encoded = pd.get_dummies(y, prefix='Status')

X_train, X_test, y_train, y_test = train_test_split(X, y_encoded, test_size=0.3, random_state=42)

mlflow.set_experiment("Customer_Status_Prediction")

with mlflow.start_run():
    clf = RandomForestClassifier(n_estimators=100, random_state=42)
    clf.fit(X_train, y_train)
    
    y_pred = clf.predict(X_test)
    
    accuracy = accuracy_score(y_test, y_pred)
    
    mlflow.log_param("n_estimators", 100)
    mlflow.log_metric("accuracy", accuracy)
    
    mlflow.sklearn.log_model(clf, "customer_status_model")
    
    print(f"Accuracy: {accuracy}")
    print(classification_report(y_test, y_pred))
